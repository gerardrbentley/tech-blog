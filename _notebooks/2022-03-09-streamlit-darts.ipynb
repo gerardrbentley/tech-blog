{
 "cells": [
  {
   "cell_type": "markdown",
   "metadata": {},
   "source": [
    "# Time Series Data Part 2: Darts and Streamlit\n",
    "> Predicting the future. In some cases...\n",
    "\n",
    "- toc: true \n",
    "- badges: true\n",
    "- comments: true\n",
    "- categories: [timeseries, darts, streamlit, python]\n",
    "- image: images/2022-03-10-15-58-35.png"
   ]
  },
  {
   "cell_type": "markdown",
   "metadata": {},
   "source": [
    "# Timeseries Data Part 1: Darts and Streamlit\n",
    "\n",
    "[Streamlit + Darts Demo live](https://share.streamlit.io/gerardrbentley/timeseries-examples/main/streamlit_apps/02_darts.py)\n",
    "\n",
    "I wanted to explore the claim of \"Time Series Made Easy in Python\" by the [Darts](https://unit8co.github.io/darts/) library.\n",
    "\n",
    "I knew from their [pydata talk](https://www.youtube.com/watch?v=g6OXDnXEtFA) that making something interactive around the training API would be straightforward.\n",
    "\n",
    "Adding interactive web elements with [Streamlit](https://streamlit.io) to the Darts documentation example led to this quick demo project that lets you explore any univariate Timeseries CSV and make forecasts with Exponential Smoothing.\n",
    "This version will resample and sum values to get to monthly samples (or change to weekly / quarterly / etc); there are other Pandas resampling aggregation options though!\n",
    "\n",
    "See the [app script source](https://github.com/gerardrbentley/timeseries-examples/blob/main/streamlit_apps/02_darts.py)\n",
    "\n",
    "\n",
    "[Free CSV Entry Direct Link](https://share.streamlit.io/gerardrbentley/timeseries-examples/main/streamlit_apps/02_darts.py#go-wild)\n",
    "\n",
    "![darts demo on example data](images/darts_demo.gif)\n",
    "![darts demo on custom data](images/darts_custom.gif)\n",
    "\n",
    "Next steps on this would be:\n",
    "\n",
    "* Series / Data info and timeseries attributes\n",
    "* Exposing configuration options for the model\n",
    "* Adding other [model options](https://unit8co.github.io/darts/generated_api/darts.models.forecasting.html) from Darts\n",
    "* Backtest / Historical Forecast view\n",
    "* Grid search result view"
   ]
  },
  {
   "cell_type": "code",
   "execution_count": null,
   "metadata": {},
   "outputs": [],
   "source": []
  }
 ],
 "metadata": {
  "language_info": {
   "name": "python"
  },
  "orig_nbformat": 4
 },
 "nbformat": 4,
 "nbformat_minor": 2
}
