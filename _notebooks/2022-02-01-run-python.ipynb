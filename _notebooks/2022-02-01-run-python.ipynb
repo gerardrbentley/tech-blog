{
 "cells": [
  {
   "cell_type": "markdown",
   "metadata": {},
   "source": [
    "# How to Run Python Code\n",
    "> 3 common ways to run Python programs (and some upgrades to them!)\n",
    "\n",
    "- toc: true \n",
    "- badges: true\n",
    "- categories: [python, beginner]\n",
    "- image: images/run_python.png"
   ]
  },
  {
   "cell_type": "markdown",
   "metadata": {},
   "source": [
    "# 3 Common Ways to Run Python\n",
    "\n",
    "Cutting to the chase:\n",
    "\n",
    "- `python -i` in a terminal. This begins an \"interactive\" or \"REPL\" session where you can enter code line by line or copy and paste into it. (you might be able to just enter `python`)\n",
    "- `python script_name.py` in a terminal with a valid python file named \"script_name.py\" in the current directory. This runs the code in the file then exits\n",
    "    - *Bonus:* `python -i script_name.py` combines both. It runs the code in the file, then allows you to continue entering python code in the REPL\n",
    "- `python -m jupyter notebook` lets you access a code notebook in your browser for a mix of live coding and code editing. Requires `pip install notebook` or a code editor with ability to handle `.ipynb` files (such as [VS Code](https://code.visualstudio.com/blogs/2021/11/08/custom-notebooks))\n",
    "\n",
    "> youtube: https://www.youtu.be/dK52tHClH34\n",
    "\n",
    "## The REPL\n",
    "\n",
    "`python -i` in a terminal.\n",
    "\n",
    "The Python \"interactive\" session.\n",
    "Known in other languages as a Read-Eval-Print-Loop (REPL).\n",
    "\n",
    "This method of running Python is useful for small bits of code and experiments.\n",
    "Need to test out what happens when you multiply an int and a string?\n",
    "Try it out in the REPL:\n",
    "\n",
    "```py\n",
    ">>> 3 * \"hello world \"\n",
    "```\n",
    "\n",
    "*note:* The common notation in books and online is to use the `>>>` that appears in the terminal to indicate code can be entered as input to the Python REPL.\n",
    "Don't include the `>>>` characters when copying though!\n",
    "\n",
    "It's hard to save your work and sometimes awkward to paste code into the REPL as each line is executed without a chance to edit.\n",
    "\n",
    "### Upgrading the REPL\n",
    "\n",
    "Try out [iPython](https://ipython.readthedocs.io/en/stable/).\n",
    "It provides a much richer experience with features such as autocomplete, command history, and saving your session.\n",
    "\n",
    "It uses the same Jupyter kernel which powers the notebooks we'll see later. \n",
    "\n",
    "## Python Script\n",
    "\n",
    "`python script_name.py` in a terminal.\n",
    "\n",
    "Most common way to \"run a Python script.\"\n",
    "Many programmers will have their first script be something like `hello.py` with a line of code `print(\"hello world\")`.\n",
    "To execute that script, the `python` command has to be used (or use a play button in your code editor which calls `python` in the background for you)\n",
    "\n",
    "Anything included after the script name is passed into the Python execution as entries in the `sys.argv` list, which has the script name itself as the first element.\n",
    "`argv` is short for \"argument values\", which means they're usually used as the parameters for your script.\n",
    "\n",
    "Save the following as `my_script.py`\n",
    "```py\n",
    "import sys\n",
    "print(f\"Command line args: {sys.argv}\")\n",
    "```\n",
    "\n",
    "Then run the following in a terminal window with `my_script.py` in the current directory:\n",
    "```sh\n",
    "python my_script.py test args to be printed in sys.argv\n",
    "```\n",
    "\n",
    "Python will print any `print()` statements to the terminal window unless otherwise specified (see the \"file\" param in the [print docs](https://docs.python.org/3/library/functions.html#print)).\n",
    "\n",
    "If your program gets stuck in an infinite loop or you need to interrupt it, hitting `ctrl+c` one or more times should give you back control of the command line.\n",
    "\n",
    "Unlike the REPL, this is a valid way to run Python code in Production.\n",
    "It doesn't require any user interaction so it can be included in a bash / batch / ci/cd script.\n",
    "\n",
    "`python -i script_name.py` combines runs the code in the file, then allows you to continue entering python code in the REPL.\n",
    "This can be useful for debugging, which can be done similarly with `breakpoint()` at the end of the script (which will require some understanding of [pdb](https://docs.python.org/3/library/pdb.html))\n",
    "\n",
    "### Upgrading your script runs\n",
    "\n",
    "In most cases you should prefer the built-in `argparse` and `logging` modules in order to handle command line arguments and output messages from your script.\n",
    "\n",
    "If you're willing to use packages from outside of the standard library you can check out [Click](https://www.palletsprojects.com/p/click/), the incredibly popular CLI library.\n",
    "For a project specifically focused on the CLI, [Typer](https://typer.tiangolo.com/) builds from Click with even more ~magic~ (sensible defaults and type-hinting)\n",
    "\n",
    "As for logging, popular packages such as [structlog](https://www.structlog.org/en/stable/) (with enhancements via [rich](https://rich.readthedocs.io/en/stable/introduction.html)) and [loguru](https://github.com/Delgan/loguru) will help you format your logs in a way that's easy to read for you when you're developing and easy to parse by machines if you run your code in production.\n",
    "\n",
    "## Jupyter Notebook\n",
    "\n",
    "`python -m jupyter notebook` runs a code notebook server locally on your computer.\n",
    "\n",
    "This lets you code in a Jupyter notebook in your browser.\n",
    "Code notebooks are a non-traditional way of coding, but are quite popular in education, data science, and research.\n",
    "Each notebook is made up of \"cells\" of either code or some documentation text (usually in Markdown).\n",
    "\n",
    "Jupyter notebooks (and this post) are focused on Python code cells, but it's good to know some other languages allow this kind of interaction in various code editors and online tools.\n",
    "\n",
    "The main benefit of notebooks is having a \"live\" coding environment.\n",
    "You are able to run chunks of your code, observe the results, then tweak something and re-run just the last chunk.\n",
    "\n",
    "Notebooks are also great for incorporating human readable documentation with your code and have some useful integrations with Image handling libraries and some charting and other data libraries.\n",
    "Some of the most notable: `matplotlib`, `Pillow`, and `opencv`\n",
    "\n",
    "If you didn't notice at the top, this post itself was generated from a notebook.\n",
    "You can check out the notebook on github or make a copy of it and run the following Python code on your own.\n",
    "Then make some changes with your own data and run it again."
   ]
  },
  {
   "cell_type": "code",
   "execution_count": 4,
   "metadata": {},
   "outputs": [
    {
     "data": {
      "text/plain": [
       "9163"
      ]
     },
     "execution_count": 4,
     "metadata": {},
     "output_type": "execute_result"
    }
   ],
   "source": [
    "from datetime import datetime, date\n",
    "BIRTH_YEAR = 1996\n",
    "\n",
    "def get_min_days_old(birth_year):\n",
    "    difference = date.today() - date(birth_year, 12, 31)\n",
    "    return difference.days\n",
    "\n",
    "min_days_old = get_min_days_old(BIRTH_YEAR)\n",
    "min_days_old"
   ]
  },
  {
   "cell_type": "markdown",
   "metadata": {},
   "source": [
    "### Upgrading your Notebooks\n",
    "\n",
    "Many complaints about notebooks involve not being able to edit them like a normal text file, not being able to do normal Python library development, and difficulty testing.\n",
    "\n",
    "Libraries such as [nbdev](https://nbdev.fast.ai/), [fastpages](https://fastpages.fast.ai/) (What this site is built with), and [fastdoc](https://fastai.github.io/fastdoc/) from [fast.ai](https://fast.ai/) address these gripes and more.\n",
    "\n",
    "Code editors such as VS Code and Atom have ways of breaking your `.py` file up into runnable Jupyter cells with some magic comments.\n",
    "VS Code calls this the [Python Interactive Window](https://code.visualstudio.com/docs/python/jupyter-support-py).\n",
    "This method of using Jupyter allows more natural text-editing."
   ]
  }
 ],
 "metadata": {
  "interpreter": {
   "hash": "916dbcbb3f70747c44a77c7bcd40155683ae19c65e1c03b4aa3499c5328201f1"
  },
  "kernelspec": {
   "display_name": "Python 3.8.5 64-bit",
   "language": "python",
   "name": "python3"
  },
  "language_info": {
   "codemirror_mode": {
    "name": "ipython",
    "version": 3
   },
   "file_extension": ".py",
   "mimetype": "text/x-python",
   "name": "python",
   "nbconvert_exporter": "python",
   "pygments_lexer": "ipython3",
   "version": "3.8.5"
  },
  "orig_nbformat": 4
 },
 "nbformat": 4,
 "nbformat_minor": 2
}
