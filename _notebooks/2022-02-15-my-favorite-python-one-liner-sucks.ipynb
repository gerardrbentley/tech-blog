{
 "cells": [
  {
   "cell_type": "markdown",
   "metadata": {},
   "source": [
    "# My Favorite Python One Liner Sucks\n",
    "> Turning Path into muscle memory\n",
    "\n",
    "- toc: true \n",
    "- badges: true\n",
    "- comments: true\n",
    "- categories: [beginner, python]"
   ]
  },
  {
   "cell_type": "markdown",
   "metadata": {},
   "source": [
    "# Writing to a file in one line\n",
    "\n",
    "tl;dr it's now:"
   ]
  },
  {
   "cell_type": "code",
   "execution_count": null,
   "metadata": {},
   "outputs": [],
   "source": [
    "#collapse-hide\n",
    "# Setup\n",
    "some_data = ['alice', 'bob', 'chuck']  # Some sample data\n",
    "from pathlib import Path\n",
    "\n",
    "# Write data to file called my_file.txt"
   ]
  },
  {
   "cell_type": "code",
   "execution_count": 1,
   "metadata": {},
   "outputs": [
    {
     "data": {
      "text/plain": [
       "15"
      ]
     },
     "execution_count": 1,
     "metadata": {},
     "output_type": "execute_result"
    }
   ],
   "source": [
    "Path('my_file.txt').write_text('\\n'.join(some_data))"
   ]
  },
  {
   "cell_type": "markdown",
   "metadata": {},
   "source": [
    "## Favorite One-Liner\n",
    "\n",
    "Python is full of one-liners.\n",
    "\n",
    "One of my favorites has been:"
   ]
  },
  {
   "cell_type": "code",
   "execution_count": 2,
   "metadata": {},
   "outputs": [
    {
     "data": {
      "text/plain": [
       "15"
      ]
     },
     "execution_count": 2,
     "metadata": {},
     "output_type": "execute_result"
    }
   ],
   "source": [
    "open('my_file.txt', 'w').write('\\n'.join(some_data))"
   ]
  },
  {
   "cell_type": "markdown",
   "metadata": {},
   "source": [
    "It opens a file in write mode and writes some data or other text to that file, returning the amount of bytes written to the file.\n",
    "Generally useful for saving a list of column names or people names or what have you.\n",
    "No external libraries, and even no extra imports because [`open()` is a built-in function](https://docs.python.org/3/library/functions.html#open)\n",
    "\n",
    "But it leaves the file handle open...\n",
    "\n",
    "Which may not be a problem in some usecases, but it can prevent other users or processes from moving or deleting the file.\n",
    "[Google's Python style guide](https://google.github.io/styleguide/pyguide.html#311-files-and-sockets) provides some more reasons, including wasting resources and preventing logical errors in code.\n",
    "\n",
    "## With Statement\n",
    "\n",
    "Of course the `with ... as ...:` [syntax](https://docs.python.org/3/reference/compound_stmts.html#the-with-statement) from [PEP 343](https://www.python.org/dev/peps/pep-0343/) is great for this safe handling of a file object that has to be opened and closed.\n",
    "\n",
    "It can be done in one line, but most prefer to break it up into 2.\n",
    "This is more awkward to use in a REPL doing ad-hoc work or notebook trying to conserve cell space "
   ]
  },
  {
   "cell_type": "code",
   "execution_count": 3,
   "metadata": {},
   "outputs": [],
   "source": [
    "with open('my_file.txt', 'w') as f: f.write('\\n'.join(some_data))"
   ]
  },
  {
   "cell_type": "code",
   "execution_count": 4,
   "metadata": {},
   "outputs": [],
   "source": [
    "with open('my_file.txt', 'w') as f: \n",
    "    f.write('\\n'.join(some_data))"
   ]
  },
  {
   "cell_type": "markdown",
   "metadata": {},
   "source": [
    "## Comparing With and Without (With)\n",
    "\n",
    "Checking out the bytecode on a simplified `write`, we can confirm that my favorite one-liner doesn't close the file, whereas the `with` one-liner does.\n",
    "\n",
    "(If you're not familiar with [dis](https://docs.python.org/3/library/dis.html), it's the Python module for disassembling Python code into its C bytecode. Not always necessary, but will prove 100% whether 2 code snippets operate the same under the covers)"
   ]
  },
  {
   "cell_type": "code",
   "execution_count": 5,
   "metadata": {},
   "outputs": [
    {
     "name": "stdout",
     "output_type": "stream",
     "text": [
      "  1           0 LOAD_NAME                0 (open)\n",
      "              2 LOAD_CONST               0 ('my_file.txt')\n",
      "              4 LOAD_CONST               1 ('w')\n",
      "              6 CALL_FUNCTION            2\n",
      "              8 LOAD_METHOD              1 (write)\n",
      "             10 LOAD_CONST               2 ('something')\n",
      "             12 CALL_METHOD              1\n",
      "             14 RETURN_VALUE\n"
     ]
    }
   ],
   "source": [
    "from dis import dis\n",
    "dis(\"open('my_file.txt', 'w').write('something')\")"
   ]
  },
  {
   "cell_type": "markdown",
   "metadata": {},
   "source": [
    "Definitely no calls to `close()`.\n",
    "What about in the with statement?"
   ]
  },
  {
   "cell_type": "code",
   "execution_count": 6,
   "metadata": {},
   "outputs": [
    {
     "name": "stdout",
     "output_type": "stream",
     "text": [
      "  1           0 LOAD_NAME                0 (open)\n",
      "              2 LOAD_CONST               0 ('my_file.txt')\n",
      "              4 LOAD_CONST               1 ('w')\n",
      "              6 CALL_FUNCTION            2\n",
      "              8 SETUP_WITH              26 (to 36)\n",
      "             10 STORE_NAME               1 (f)\n",
      "             12 LOAD_NAME                1 (f)\n",
      "             14 LOAD_METHOD              2 (write)\n",
      "             16 LOAD_CONST               2 ('something')\n",
      "             18 CALL_METHOD              1\n",
      "             20 POP_TOP\n",
      "             22 POP_BLOCK\n",
      "             24 LOAD_CONST               3 (None)\n",
      "             26 DUP_TOP\n",
      "             28 DUP_TOP\n",
      "             30 CALL_FUNCTION            3\n",
      "             32 POP_TOP\n",
      "             34 JUMP_FORWARD            16 (to 52)\n",
      "        >>   36 WITH_EXCEPT_START\n",
      "             38 POP_JUMP_IF_TRUE        42\n",
      "             40 RERAISE\n",
      "        >>   42 POP_TOP\n",
      "             44 POP_TOP\n",
      "             46 POP_TOP\n",
      "             48 POP_EXCEPT\n",
      "             50 POP_TOP\n",
      "        >>   52 LOAD_CONST               3 (None)\n",
      "             54 RETURN_VALUE\n"
     ]
    }
   ],
   "source": [
    "dis(\"with open('my_file.txt', 'w') as f: f.write('something')\")"
   ]
  },
  {
   "cell_type": "markdown",
   "metadata": {},
   "source": [
    "The context manager takes a lot more steps to manage the call stack.\n",
    "But there's no clear call to the `close()` function, which is the other standard way of writing to a file and closing the handle."
   ]
  },
  {
   "cell_type": "code",
   "execution_count": 7,
   "metadata": {},
   "outputs": [
    {
     "name": "stdout",
     "output_type": "stream",
     "text": [
      "  1           0 LOAD_NAME                0 (open)\n",
      "              2 LOAD_CONST               0 ('my_file.txt')\n",
      "              4 LOAD_CONST               1 ('w')\n",
      "              6 CALL_FUNCTION            2\n",
      "              8 STORE_NAME               1 (f)\n",
      "\n",
      "  2          10 LOAD_NAME                1 (f)\n",
      "             12 LOAD_METHOD              2 (write)\n",
      "             14 LOAD_CONST               2 ('something')\n",
      "             16 CALL_METHOD              1\n",
      "             18 POP_TOP\n",
      "\n",
      "  3          20 LOAD_NAME                1 (f)\n",
      "             22 LOAD_METHOD              3 (close)\n",
      "             24 CALL_METHOD              0\n",
      "             26 POP_TOP\n",
      "             28 LOAD_CONST               3 (None)\n",
      "             30 RETURN_VALUE\n"
     ]
    }
   ],
   "source": [
    "dis(\"f = open('my_file.txt', 'w')\\nf.write('something')\\nf.close()\")"
   ]
  },
  {
   "cell_type": "markdown",
   "metadata": {},
   "source": [
    "The `open()` function code lives [here](https://github.com/python/cpython/blob/602630ac1855e38ef06361c68f6e216375a06180/Lib/_pyio.py#L73).\n",
    "\n",
    "It's a wrapper around a FileIO object, whose `close` method will use `os.close()`, the low-level file closing method.\n",
    "\n",
    "The FileIO inherits a context manager from IOBase that calls `close` when exited, so we can be sure it'll get called."
   ]
  },
  {
   "cell_type": "markdown",
   "metadata": {},
   "source": [
    "## Pathlib usage\n",
    "\n",
    "Making the extra import is worth it for `Path` object to get the following:\n",
    "\n",
    "- Accurate path on [any OS](https://docs.python.org/3/library/pathlib.html)\n",
    "- file open and close with [`write_text()`](https://docs.python.org/3/library/pathlib.html#pathlib.Path.write_text)\n",
    "- Still a similar one-liner!\n"
   ]
  },
  {
   "cell_type": "code",
   "execution_count": 8,
   "metadata": {},
   "outputs": [
    {
     "data": {
      "text/plain": [
       "15"
      ]
     },
     "execution_count": 8,
     "metadata": {},
     "output_type": "execute_result"
    }
   ],
   "source": [
    "from pathlib import Path\n",
    "Path('my_file.txt').write_text('\\n'.join(some_data))"
   ]
  },
  {
   "cell_type": "markdown",
   "metadata": {},
   "source": [
    "Does the disassembler tell us anything?"
   ]
  },
  {
   "cell_type": "code",
   "execution_count": 9,
   "metadata": {},
   "outputs": [
    {
     "name": "stdout",
     "output_type": "stream",
     "text": [
      "  1           0 LOAD_NAME                0 (Path)\n",
      "              2 LOAD_CONST               0 ('my_file.txt')\n",
      "              4 CALL_FUNCTION            1\n",
      "              6 LOAD_METHOD              1 (write_text)\n",
      "              8 LOAD_CONST               1 ('something')\n",
      "             10 CALL_METHOD              1\n",
      "             12 RETURN_VALUE\n"
     ]
    }
   ],
   "source": [
    "dis(\"Path('my_file.txt').write_text('something')\")"
   ]
  },
  {
   "cell_type": "markdown",
   "metadata": {},
   "source": [
    "Not really, what about on the write_text method specifically?"
   ]
  },
  {
   "cell_type": "code",
   "execution_count": 10,
   "metadata": {},
   "outputs": [
    {
     "name": "stdout",
     "output_type": "stream",
     "text": [
      "1282           0 LOAD_GLOBAL              0 (isinstance)\n",
      "               2 LOAD_FAST                1 (data)\n",
      "               4 LOAD_GLOBAL              1 (str)\n",
      "               6 CALL_FUNCTION            2\n",
      "               8 POP_JUMP_IF_TRUE        26\n",
      "\n",
      "1283          10 LOAD_GLOBAL              2 (TypeError)\n",
      "              12 LOAD_CONST               1 ('data must be str, not %s')\n",
      "\n",
      "1284          14 LOAD_FAST                1 (data)\n",
      "              16 LOAD_ATTR                3 (__class__)\n",
      "              18 LOAD_ATTR                4 (__name__)\n",
      "\n",
      "1283          20 BINARY_MODULO\n",
      "              22 CALL_FUNCTION            1\n",
      "              24 RAISE_VARARGS            1\n",
      "\n",
      "1285     >>   26 LOAD_FAST                0 (self)\n",
      "              28 LOAD_ATTR                5 (open)\n",
      "              30 LOAD_CONST               2 ('w')\n",
      "              32 LOAD_FAST                2 (encoding)\n",
      "              34 LOAD_FAST                3 (errors)\n",
      "              36 LOAD_CONST               3 (('mode', 'encoding', 'errors'))\n",
      "              38 CALL_FUNCTION_KW         3\n",
      "              40 SETUP_WITH              26 (to 68)\n",
      "              42 STORE_FAST               4 (f)\n",
      "\n",
      "1286          44 LOAD_FAST                4 (f)\n",
      "              46 LOAD_METHOD              6 (write)\n",
      "              48 LOAD_FAST                1 (data)\n",
      "              50 CALL_METHOD              1\n",
      "              52 POP_BLOCK\n",
      "              54 ROT_TWO\n",
      "              56 LOAD_CONST               4 (None)\n",
      "              58 DUP_TOP\n",
      "              60 DUP_TOP\n",
      "              62 CALL_FUNCTION            3\n",
      "              64 POP_TOP\n",
      "              66 RETURN_VALUE\n",
      "         >>   68 WITH_EXCEPT_START\n",
      "              70 POP_JUMP_IF_TRUE        74\n",
      "              72 RERAISE\n",
      "         >>   74 POP_TOP\n",
      "              76 POP_TOP\n",
      "              78 POP_TOP\n",
      "              80 POP_EXCEPT\n",
      "              82 POP_TOP\n",
      "              84 LOAD_CONST               4 (None)\n",
      "              86 RETURN_VALUE\n"
     ]
    }
   ],
   "source": [
    "dis(Path('my_file.txt').write_text)"
   ]
  },
  {
   "cell_type": "markdown",
   "metadata": {},
   "source": [
    "Well that's a whole lot to end up looking like the same bytecode as the `with` statement...\n",
    "\n",
    "In fact, pathlib would have gotten away with it too if it weren't for that meddling [source code](https://github.com/python/cpython/blob/602630ac1855e38ef06361c68f6e216375a06180/Lib/pathlib.py#L1070) to betray it!\n",
    "\n",
    "We wind up calling the same with statement, but get a free assertion that our data is a valid string:\n",
    "\n",
    "```python\n",
    "# pathlib.Path.write_text\n",
    "# ...\n",
    "        with self.open(mode='w', encoding=encoding, errors=errors, newline=newline) as f:\n",
    "            return f.write(data)\n",
    "```"
   ]
  },
  {
   "cell_type": "markdown",
   "metadata": {},
   "source": [
    "## Conclusion\n",
    "\n",
    "Pathlib `write_text()` is just `with open()...` under the covers.\n",
    "\n",
    "Nevertheless, I prefer the `write_text()` one-liner to the `with open() as f: ...` one-liner out of respect for colons.\n",
    "\n"
   ]
  }
 ],
 "metadata": {
  "interpreter": {
   "hash": "fd4900dfb4b4458ef9e4214b0f18647ea994b83fcd2c1f53254143b29c9b10b7"
  },
  "kernelspec": {
   "display_name": "Python 3.8.5 ('base')",
   "language": "python",
   "name": "python3"
  },
  "language_info": {
   "codemirror_mode": {
    "name": "ipython",
    "version": 3
   },
   "file_extension": ".py",
   "mimetype": "text/x-python",
   "name": "python",
   "nbconvert_exporter": "python",
   "pygments_lexer": "ipython3",
   "version": "3.9.7"
  },
  "orig_nbformat": 4
 },
 "nbformat": 4,
 "nbformat_minor": 2
}
